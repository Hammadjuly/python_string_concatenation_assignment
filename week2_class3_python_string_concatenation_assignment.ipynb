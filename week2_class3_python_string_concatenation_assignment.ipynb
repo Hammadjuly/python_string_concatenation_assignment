{
  "cells": [
    {
      "cell_type": "markdown",
      "metadata": {
        "id": "_KDQGvtxR97u"
      },
      "source": [
        "**Assignment 1: String Concatenation and Formatting**"
      ]
    },
    {
      "cell_type": "code",
      "execution_count": 2,
      "metadata": {
        "colab": {
          "base_uri": "https://localhost:8080/"
        },
        "id": "feQ8opBhRiVu",
        "outputId": "45c62ae0-54d1-4a9b-e5ed-309846d6fece"
      },
      "outputs": [
        {
          "name": "stdout",
          "output_type": "stream",
          "text": [
            "My name is muhammad hammad naseem, I am 26 years old, and I live in Pakistan.\n"
          ]
        }
      ],
      "source": [
        "name = \"muhammad hammad naseem\"\n",
        "age = 26\n",
        "country = \"Pakistan\"\n",
        "text = \"My name is \" + name + \", I am \" + str(age) + \" years old, and I live in \" + country + \".\"\n",
        "print (text)"
      ]
    },
    {
      "cell_type": "markdown",
      "metadata": {
        "id": "Q902lLGZSqAX"
      },
      "source": [
        "**Assignment 2: String Formatting using `.format()`**"
      ]
    },
    {
      "cell_type": "code",
      "execution_count": 3,
      "metadata": {
        "colab": {
          "base_uri": "https://localhost:8080/"
        },
        "id": "esHA7YoOSZ20",
        "outputId": "9d385aea-302c-4d53-934c-adddce813812"
      },
      "outputs": [
        {
          "name": "stdout",
          "output_type": "stream",
          "text": [
            "I bought 3 oranges(s) at 2.25 each, for a total of $6.75.\n"
          ]
        }
      ],
      "source": [
        "item = \"oranges\"\n",
        "quantity = 3\n",
        "price = float(2.25)\n",
        "total_cost = quantity * price\n",
        "\n",
        "print (\"I bought {} {}(s) at {} each, for a total of ${:.2f}.\".format(quantity, item, price, total_cost))"
      ]
    },
    {
      "cell_type": "code",
      "execution_count": 7,
      "metadata": {
        "colab": {
          "base_uri": "https://localhost:8080/"
        },
        "id": "dB8YA-o4UsWr",
        "outputId": "d4f11ae3-3e90-4146-c7e6-1d4d0a4752e4"
      },
      "outputs": [
        {
          "name": "stdout",
          "output_type": "stream",
          "text": [
            "I bought 2 laptop(s) at 1100.1 each, for a total of $2200.2.\n"
          ]
        }
      ],
      "source": [
        "item = \"laptop\"\n",
        "price = 1100.1\n",
        "quantity = 2\n",
        "total_cost = price * quantity\n",
        "\n",
        "formatted_string = \"I bought {} {}(s) at {} each, for a total of ${}.\".format(quantity, item, price, total_cost)\n",
        "\n",
        "print(formatted_string)\n"
      ]
    },
    {
      "cell_type": "markdown",
      "metadata": {
        "id": "EPaKKxLrWCoY"
      },
      "source": [
        "**Assignment 3: String Interpolation using `f''`**"
      ]
    },
    {
      "cell_type": "code",
      "execution_count": 8,
      "metadata": {
        "colab": {
          "base_uri": "https://localhost:8080/"
        },
        "id": "EPyZfPFuWQMJ",
        "outputId": "88f5d126-f168-47a7-bbc2-b61ea46140d8"
      },
      "outputs": [
        {
          "name": "stdout",
          "output_type": "stream",
          "text": [
            "Temperature in Karachi is 34 degree celcius.\n"
          ]
        }
      ],
      "source": [
        "city = \"Karachi\"\n",
        "temperature = 34\n",
        "text = f\"Temperature in {city} is {temperature} degree celcius.\"\n",
        "print(text)"
      ]
    },
    {
      "cell_type": "code",
      "execution_count": null,
      "metadata": {
        "id": "tl-IaGDqZnG5"
      },
      "outputs": [],
      "source": [
        "city = \"Lahore\"\n",
        "temperature = 30\n",
        "formatted_string = f\"The temperature in {city} is {temperature}°C.\"\n",
        "print(formatted_string)\n"
      ]
    },
    {
      "cell_type": "markdown",
      "metadata": {
        "id": "BGoiKTxHZ5IP"
      },
      "source": [
        "**Assignment 4: String Formatting using `%()`**"
      ]
    },
    {
      "cell_type": "code",
      "execution_count": 9,
      "metadata": {
        "colab": {
          "base_uri": "https://localhost:8080/"
        },
        "id": "th99aJ2HZ987",
        "outputId": "4d3b1ce1-9fbc-41e4-b1f1-e61be5cdfbf2"
      },
      "outputs": [
        {
          "name": "stdout",
          "output_type": "stream",
          "text": [
            "My name is Hammad Naseem and I am 26 years old.\n"
          ]
        }
      ],
      "source": [
        "first_name = \"Hammad\"\n",
        "last_name = \"Naseem\"\n",
        "birth_year = 1997\n",
        "current_year = 2023\n",
        "age = current_year - birth_year\n",
        "\n",
        "text = (\"My name is %(first_name)s %(last_name)s and I am %(age)d years old.\") %{\"first_name\": first_name, \"last_name\": last_name, \"age\": age}\n",
        "print (text)"
      ]
    },
    {
      "cell_type": "markdown",
      "metadata": {
        "id": "LaTnJ7zFck2c"
      },
      "source": [
        "\n",
        "**Assignment 5: Combining Formatting Methods**"
      ]
    },
    {
      "cell_type": "code",
      "execution_count": 10,
      "metadata": {
        "colab": {
          "base_uri": "https://localhost:8080/"
        },
        "id": "DtYgPyVGmQob",
        "outputId": "64af23cc-fcd1-4b1b-fb02-d05c41351265"
      },
      "outputs": [
        {
          "name": "stdout",
          "output_type": "stream",
          "text": [
            "Product: Laptop\n",
            "Original Price: $1000\n",
            "Discount: 15%\n",
            "Discounted Price: $850.00\n"
          ]
        }
      ],
      "source": [
        "product = \"Laptop\"\n",
        "discount = 15\n",
        "original_price = 1000\n",
        "discounted_price = original_price * (1 - discount / 100)\n",
        "descriptive_string = f\"Product: {product}\\nOriginal Price: ${original_price}\\nDiscount: {discount}%\\nDiscounted Price: ${discounted_price:.2f}\"\n",
        "print(descriptive_string)\n"
      ]
    }
  ],
  "metadata": {
    "colab": {
      "provenance": []
    },
    "kernelspec": {
      "display_name": "Python 3",
      "name": "python3"
    },
    "language_info": {
      "codemirror_mode": {
        "name": "ipython",
        "version": 3
      },
      "file_extension": ".py",
      "mimetype": "text/x-python",
      "name": "python",
      "nbconvert_exporter": "python",
      "pygments_lexer": "ipython3",
      "version": "3.11.5"
    }
  },
  "nbformat": 4,
  "nbformat_minor": 0
}
